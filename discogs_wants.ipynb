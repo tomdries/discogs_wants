{
 "cells": [
  {
   "cell_type": "markdown",
   "metadata": {
    "id": "SuUeeDYF6edv"
   },
   "source": [
    "get sellers from sidebar:\n",
    "https://www.discogs.com/sell/mywants?ev=wfs&user={USERNAME}#more%3Dseller\n",
    "\n"
   ]
  },
  {
   "cell_type": "markdown",
   "metadata": {},
   "source": [
    "Download geckodriver here https://github.com/mozilla/geckodriver/releases/tag/v0.30.0\n",
    "\n",
    "Place geckodriver.exe in project folder.\n"
   ]
  },
  {
   "cell_type": "code",
   "execution_count": 1,
   "metadata": {
    "colab": {
     "base_uri": "https://localhost:8080/",
     "height": 49
    },
    "id": "sabSUPia6Bk2",
    "outputId": "02e31377-9f59-4e49-aeca-b630d22c9c37"
   },
   "outputs": [],
   "source": [
    "from selenium import webdriver\n",
    "from selenium.webdriver.firefox.options import Options\n",
    "import requests\n",
    "import pandas as pd\n",
    "from html_table_parser.parser import HTMLTableParser\n",
    "\n",
    "USERNAME = 'Henkgrid'\n",
    "\n",
    "url_wantlist=f\"https://www.discogs.com/sell/mywants?ev=wfs&user={USERNAME}#more%3Dseller\"\n",
    "\n",
    "pd.DataFrame(columns=['seller', 'items', 'seller_url'])\n",
    "\n",
    "options = Options()\n",
    "options.add_argument(\"--headless\") # not working\n",
    "\n",
    "driver = webdriver.Firefox(executable_path=r'./geckodriver.exe')\n",
    "driver.get(url_wantlist)\n",
    "\n",
    "# allow cookies button\n",
    "driver.implicitly_wait(50)\n",
    "driver.find_element_by_xpath('//*[@id=\"onetrust-accept-btn-handler\"]').click()\n",
    "\n",
    "sellers_raw = driver.find_element_by_xpath('/html/body/div[1]/div[4]/div[3]/div[2]/div/ul').text.split('\\n')[1:]\n",
    "\n",
    "driver.close()"
   ]
  },
  {
   "cell_type": "markdown",
   "metadata": {},
   "source": [
    "\n",
    "Seller url with that users wants\n",
    "https://www.discogs.com/seller/{SELLERNAME}/mywants?ev=wfs&user={USERNAME}\n"
   ]
  },
  {
   "cell_type": "code",
   "execution_count": 2,
   "metadata": {},
   "outputs": [],
   "source": [
    "n_list = sellers_raw[0::2]\n",
    "seller_list = sellers_raw[1::2]\n",
    "seller_url_list = [f'https://www.discogs.com/seller/{seller}/mywants?ev=wfs&user={USERNAME}' for seller in seller_list]\n",
    "seller_url_list_250results = [f'https://www.discogs.com/seller/{seller}/mywants?sort=listed%2Cdesc&limit=250&ev=wfs&user={USERNAME}&page=1' for seller in seller_list]\n",
    "seller_df = pd.DataFrame({'seller': seller_list, 'n_items': n_list, 'seller_url': seller_url_list, 'seller_url_250': seller_url_list_250results})"
   ]
  },
  {
   "cell_type": "code",
   "execution_count": 3,
   "metadata": {},
   "outputs": [],
   "source": [
    "seller_url = seller_df.seller_url_250.iloc[0]"
   ]
  },
  {
   "cell_type": "code",
   "execution_count": 5,
   "metadata": {},
   "outputs": [],
   "source": [
    "def get_seller_table(seller_url):\n",
    "    url = seller_url\n",
    "    req = requests.get(url, 'html.parser')\n",
    "    html = req.text\n",
    "    p = HTMLTableParser()\n",
    "    p.feed(html)\n",
    "    return p.tables[2][1:]\n",
    "\n",
    "seller_table = get_seller_table(seller_url)"
   ]
  },
  {
   "cell_type": "code",
   "execution_count": 6,
   "metadata": {},
   "outputs": [],
   "source": [
    "item = seller_table[1]\n",
    "\n",
    "def get_item_data(item):\n",
    "    \n",
    "    item[0] = item[0].split('No Image')[-1].strip() #remove no image\n",
    "    split_row = item[0].split(' ')\n",
    "    \n",
    "                                                             \n",
    "                                        \n",
    "    rating =  float(split_row[1])\n",
    "\n",
    "    have = int(split_row[split_row.index('have')-1])\n",
    "    want = split_row[split_row.index('want')-1]\n",
    "    price = split_row[split_row.index('shipping')-5]\n",
    "    shipping = split_row[split_row.index('shipping')-2][1:]\n",
    "\n",
    "\n",
    "    title = item[1].split('Label')[0].strip()\n",
    "    label = item[1].split('Label:')[1].split('Cat#:')[0].strip()\n",
    "    \n",
    "for item in seller_table: # test for all items\n",
    "        get_item_data(item)\n"
   ]
  },
  {
   "cell_type": "code",
   "execution_count": null,
   "metadata": {},
   "outputs": [],
   "source": [
    "seller_table[0]\n",
    "seller_table[-1]"
   ]
  },
  {
   "cell_type": "code",
   "execution_count": null,
   "metadata": {},
   "outputs": [],
   "source": [
    "seller_table[-1]"
   ]
  },
  {
   "cell_type": "code",
   "execution_count": null,
   "metadata": {},
   "outputs": [],
   "source": [
    "item[0] = item[0].split('Rated:')[-1]"
   ]
  },
  {
   "cell_type": "code",
   "execution_count": null,
   "metadata": {},
   "outputs": [],
   "source": [
    "item[0]"
   ]
  },
  {
   "cell_type": "code",
   "execution_count": null,
   "metadata": {},
   "outputs": [],
   "source": [
    "item[1].split('Cat:')[1].split('Media Contition')[0].strip()"
   ]
  },
  {
   "cell_type": "code",
   "execution_count": null,
   "metadata": {},
   "outputs": [],
   "source": [
    "item[1]"
   ]
  },
  {
   "cell_type": "code",
   "execution_count": null,
   "metadata": {},
   "outputs": [],
   "source": [
    "item[0].split('€')"
   ]
  },
  {
   "cell_type": "code",
   "execution_count": null,
   "metadata": {},
   "outputs": [],
   "source": [
    "# Now finally obtaining the data of\n",
    "# the table require"
   ]
  },
  {
   "cell_type": "code",
   "execution_count": null,
   "metadata": {},
   "outputs": [],
   "source": [
    "import pp\n",
    "pp\n"
   ]
  },
  {
   "cell_type": "code",
   "execution_count": null,
   "metadata": {},
   "outputs": [],
   "source": [
    "seller_url = seller_df.seller_url.iloc[0]\n",
    "seller_html = requests.get(seller_url, 'html.parser').text\n",
    "import pyperclip\n",
    "pyperclip.copy(seller_html)"
   ]
  },
  {
   "cell_type": "code",
   "execution_count": null,
   "metadata": {},
   "outputs": [],
   "source": [
    "pprint("
   ]
  },
  {
   "cell_type": "code",
   "execution_count": null,
   "metadata": {},
   "outputs": [],
   "source": [
    "seller_url"
   ]
  },
  {
   "cell_type": "code",
   "execution_count": null,
   "metadata": {},
   "outputs": [],
   "source": [
    "seller_df.seller_url.iloc[-1]"
   ]
  },
  {
   "cell_type": "code",
   "execution_count": null,
   "metadata": {},
   "outputs": [],
   "source": []
  }
 ],
 "metadata": {
  "colab": {
   "name": "Untitled2.ipynb",
   "provenance": []
  },
  "kernelspec": {
   "display_name": "Python 3 (ipykernel)",
   "language": "python",
   "name": "python3"
  },
  "language_info": {
   "codemirror_mode": {
    "name": "ipython",
    "version": 3
   },
   "file_extension": ".py",
   "mimetype": "text/x-python",
   "name": "python",
   "nbconvert_exporter": "python",
   "pygments_lexer": "ipython3",
   "version": "3.9.6"
  }
 },
 "nbformat": 4,
 "nbformat_minor": 4
}
