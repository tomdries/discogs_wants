{
 "cells": [
  {
   "cell_type": "markdown",
   "metadata": {
    "id": "SuUeeDYF6edv"
   },
   "source": [
    "get sellers from sidebar:\n",
    "https://www.discogs.com/sell/mywants?ev=wfs&user={USERNAME}#more%3Dseller\n",
    "\n"
   ]
  },
  {
   "cell_type": "code",
   "execution_count": 51,
   "metadata": {
    "colab": {
     "base_uri": "https://localhost:8080/",
     "height": 49
    },
    "id": "sabSUPia6Bk2",
    "outputId": "02e31377-9f59-4e49-aeca-b630d22c9c37"
   },
   "outputs": [],
   "source": [
    "from selenium import webdriver\n",
    "from selenium.webdriver.firefox.options import Options\n",
    "import requests\n",
    "import pandas as pd\n",
    "\n",
    "USERNAME = 'tomdrie'\n",
    "\n",
    "url_wantlist=f\"https://www.discogs.com/sell/mywants?ev=wfs&user={USERNAME}#more%3Dseller\"\n",
    "\n",
    "pd.DataFrame(columns=['seller', 'items', 'seller_url'])\n",
    "\n",
    "options = Options()\n",
    "options.add_argument(\"--headless\") # not working\n",
    "\n",
    "driver = webdriver.Firefox()\n",
    "driver.get(url_wantlist)\n",
    "\n",
    "# allow cookies button\n",
    "driver.implicitly_wait(50)\n",
    "driver.find_element_by_xpath('//*[@id=\"onetrust-accept-btn-handler\"]').click()\n",
    "\n",
    "sellers_raw = driver.find_element_by_xpath('/html/body/div[1]/div[4]/div[3]/div[2]/div/ul').text.split('\\n')[1:]\n",
    "\n",
    "driver.close()"
   ]
  },
  {
   "cell_type": "markdown",
   "metadata": {},
   "source": [
    "\n",
    "Seller url with that users wants\n",
    "https://www.discogs.com/seller/{SELLERNAME}/mywants?ev=wfs&user={USERNAME}\n"
   ]
  },
  {
   "cell_type": "code",
   "execution_count": 101,
   "metadata": {},
   "outputs": [],
   "source": [
    "n_list = sellers_raw[0::2]\n",
    "seller_list = sellers_raw[1::2]\n",
    "seller_url_list = [f'https://www.discogs.com/seller/{seller}/mywants?ev=wfs&user={USERNAME}' for seller in seller_list]\n",
    "seller_url_list_250results = [f'https://www.discogs.com/seller/{seller}/mywants?sort=listed%2Cdesc&limit=250&ev=wfs&user={USERNAME}&page=1' for seller in seller_list]\n",
    "seller_df = pd.DataFrame({'seller': seller_list, 'n_items': n_list, 'seller_url': seller_url_list, 'seller_url_250': seller_url_list_250results})"
   ]
  },
  {
   "cell_type": "code",
   "execution_count": 103,
   "metadata": {},
   "outputs": [
    {
     "data": {
      "text/plain": [
       "'https://www.discogs.com/seller/12-INCH-ZONE/mywants?sort=listed%2Cdesc&limit=250&ev=wfs&user=tomdrie&page=1'"
      ]
     },
     "execution_count": 103,
     "metadata": {},
     "output_type": "execute_result"
    }
   ],
   "source": [
    "seller_df.seller_url_250.iloc[10]"
   ]
  },
  {
   "cell_type": "code",
   "execution_count": null,
   "metadata": {},
   "outputs": [],
   "source": [
    "import requests\n",
    "\n",
    "url = \n",
    "html_output_name = input('Name for html file: ')\n",
    "\n",
    "req = requests.get(url, 'html.parser')\n",
    "\n",
    "with open(html_output_name, 'w') as f:\n",
    "    f.write(req.text)\n",
    "    f.close()\n"
   ]
  },
  {
   "cell_type": "code",
   "execution_count": 98,
   "metadata": {},
   "outputs": [],
   "source": [
    "seller_url = seller_df.seller_url.iloc[0]\n",
    "seller_html = requests.get(seller_url, 'html.parser').text\n",
    "import pyperclip\n",
    "pyperclip.copy(seller_html)"
   ]
  },
  {
   "cell_type": "code",
   "execution_count": 96,
   "metadata": {},
   "outputs": [
    {
     "name": "stdout",
     "output_type": "stream",
     "text": [
      "Collecting pyperclip\n",
      "  Downloading pyperclip-1.8.2.tar.gz (20 kB)\n",
      "Using legacy 'setup.py install' for pyperclip, since package 'wheel' is not installed.\n",
      "Installing collected packages: pyperclip\n",
      "    Running setup.py install for pyperclip: started\n",
      "    Running setup.py install for pyperclip: finished with status 'done'\n",
      "Successfully installed pyperclip-1.8.2\n"
     ]
    },
    {
     "name": "stderr",
     "output_type": "stream",
     "text": [
      "WARNING: You are using pip version 20.2.1; however, version 21.1.3 is available.\n",
      "You should consider upgrading via the 'c:\\users\\tom\\venvs\\scraping\\scripts\\python.exe -m pip install --upgrade pip' command.\n"
     ]
    }
   ],
   "source": [
    "!pip install pyperclip"
   ]
  },
  {
   "cell_type": "code",
   "execution_count": 99,
   "metadata": {},
   "outputs": [
    {
     "data": {
      "text/plain": [
       "'https://www.discogs.com/seller/mutt_discogs/mywants?ev=wfs&user=tomdrie'"
      ]
     },
     "execution_count": 99,
     "metadata": {},
     "output_type": "execute_result"
    }
   ],
   "source": [
    "seller_url"
   ]
  },
  {
   "cell_type": "code",
   "execution_count": null,
   "metadata": {},
   "outputs": [],
   "source": []
  }
 ],
 "metadata": {
  "colab": {
   "name": "Untitled2.ipynb",
   "provenance": []
  },
  "kernelspec": {
   "display_name": "Python 3 (ipykernel)",
   "language": "python",
   "name": "python3"
  },
  "language_info": {
   "codemirror_mode": {
    "name": "ipython",
    "version": 3
   },
   "file_extension": ".py",
   "mimetype": "text/x-python",
   "name": "python",
   "nbconvert_exporter": "python",
   "pygments_lexer": "ipython3",
   "version": "3.8.6"
  }
 },
 "nbformat": 4,
 "nbformat_minor": 4
}
